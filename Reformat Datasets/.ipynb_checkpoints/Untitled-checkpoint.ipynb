{
 "cells": [
  {
   "cell_type": "code",
   "execution_count": 6,
   "metadata": {},
   "outputs": [],
   "source": [
    "import pandas as pd\n",
    "import os\n",
    "import pickle"
   ]
  },
  {
   "cell_type": "code",
   "execution_count": 7,
   "metadata": {},
   "outputs": [],
   "source": [
    "# Data\n",
    "\n",
    "df_melted_kmeans_data = pickle.load(open(\"../data/go_terms/df_melted_kmeans_data.p\", \"rb\"))\n",
    "df_melted_birch_data = pickle.load(open(\"../data/go_terms/df_melted_birch_data.p\", \"rb\"))\n",
    "\n",
    "df_all_merged_kmeans_data = pickle.load(open(\"../data/go_terms/df_all_merged_kmeans_data.p\", \"rb\"))\n",
    "df_all_merged_birch_data = pickle.load(open(\"../data/go_terms/df_all_merged_birch_data.p\", \"rb\"))\n"
   ]
  },
  {
   "cell_type": "code",
   "execution_count": 11,
   "metadata": {},
   "outputs": [
    {
     "data": {
      "text/plain": [
       "19"
      ]
     },
     "execution_count": 11,
     "metadata": {},
     "output_type": "execute_result"
    }
   ],
   "source": [
    "num_clusters_kmeans = len(df_melted_kmeans_data['cluster_id'].unique())"
   ]
  },
  {
   "cell_type": "code",
   "execution_count": 4,
   "metadata": {},
   "outputs": [
    {
     "name": "stdout",
     "output_type": "stream",
     "text": [
      "9\n",
      "7\n",
      "10\n",
      "10\n",
      "13\n",
      "13\n",
      "15\n",
      "15\n",
      "2\n",
      "16\n",
      "16\n",
      "5\n",
      "6\n",
      "17\n",
      "17\n",
      ".DS_Store\n",
      ".DS_Store\n",
      ".DS_Store\n",
      ".DS_Store\n",
      ".DS_Store\n",
      ".DS_Store\n",
      ".DS_Store\n",
      ".DS_Store\n",
      ".DS_Store\n",
      "3\n",
      "4\n",
      "12\n",
      "12\n",
      "11\n",
      "11\n",
      "18\n",
      "18\n",
      "14\n",
      "14\n",
      "0\n",
      "8\n",
      "1\n"
     ]
    }
   ],
   "source": [
    "general_path=\"../data/kmeans_ind_cluster_data/\"\n",
    "\n",
    "for cluster in range(0, :\n",
    "    for dataset in os.\n",
    "        "
   ]
  },
  {
   "cell_type": "code",
   "execution_count": null,
   "metadata": {},
   "outputs": [],
   "source": []
  }
 ],
 "metadata": {
  "kernelspec": {
   "display_name": "Python 3",
   "language": "python",
   "name": "python3"
  },
  "language_info": {
   "codemirror_mode": {
    "name": "ipython",
    "version": 3
   },
   "file_extension": ".py",
   "mimetype": "text/x-python",
   "name": "python",
   "nbconvert_exporter": "python",
   "pygments_lexer": "ipython3",
   "version": "3.8.3"
  },
  "toc": {
   "base_numbering": 1,
   "nav_menu": {},
   "number_sections": true,
   "sideBar": true,
   "skip_h1_title": false,
   "title_cell": "Table of Contents",
   "title_sidebar": "Contents",
   "toc_cell": false,
   "toc_position": {},
   "toc_section_display": true,
   "toc_window_display": false
  }
 },
 "nbformat": 4,
 "nbformat_minor": 4
}
