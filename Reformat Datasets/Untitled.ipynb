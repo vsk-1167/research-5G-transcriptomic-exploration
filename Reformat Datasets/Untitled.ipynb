{
 "cells": [
  {
   "cell_type": "code",
   "execution_count": 1,
   "metadata": {},
   "outputs": [],
   "source": [
    "import pandas as pd\n",
    "import os\n",
    "import pickle"
   ]
  },
  {
   "cell_type": "code",
   "execution_count": 2,
   "metadata": {},
   "outputs": [],
   "source": [
    "# Data\n",
    "\n",
    "df_melted_kmeans_data = pickle.load(open(\"../data/go_terms/df_melted_kmeans_data.p\", \"rb\"))\n",
    "df_melted_birch_data = pickle.load(open(\"../data/go_terms/df_melted_birch_data.p\", \"rb\"))\n",
    "\n",
    "df_all_merged_kmeans_data = pickle.load(open(\"../data/go_terms/df_all_merged_kmeans_data.p\", \"rb\"))\n",
    "df_all_merged_birch_data = pickle.load(open(\"../data/go_terms/df_all_merged_birch_data.p\", \"rb\"))\n"
   ]
  },
  {
   "cell_type": "code",
   "execution_count": 3,
   "metadata": {},
   "outputs": [],
   "source": [
    "num_clusters_kmeans = len(df_melted_kmeans_data['cluster_id'].unique())\n",
    "num_clusters_birch = len(df_melted_birch_data['cluster_id'].unique())"
   ]
  },
  {
   "cell_type": "code",
   "execution_count": 11,
   "metadata": {},
   "outputs": [],
   "source": [
    "general_path = \"../data/ind_cluster_details/\"\n",
    "csv_files_path = \"../data/ind_cluster_details/kmeans_ind_cluster_data_csv/\"\n",
    "\n",
    "json_files_path = general_path + \"kmeans_ind_cluster_data_json/\"\n",
    "#os.rmdir(json_files_path) # deletes previously named folder for re-population\n",
    "os.makedirs(json_files_path)\n",
    "\n",
    "for cluster in range(0, num_clusters_kmeans):\n",
    "    local_path = csv_files_path + str(cluster)\n",
    "    \n",
    "    new_local_path = json_files_path + str(cluster)\n",
    "    \n",
    "    #os.rmdir(new_local_path) # deletes previously named folder for re-population\n",
    "    os.makedirs(new_local_path)\n",
    "    \n",
    "    for dataset_files in os.listdir(local_path):\n",
    "        df_cur_cluster = pd.read_csv(local_path + \"/\" + dataset_files)\n",
    "        new_file_name = dataset_files[0:(len(dataset_files) -3)] + \"json\"\n",
    "        df_cur_cluster.to_json(new_local_path + \"/\" + new_file_name)"
   ]
  },
  {
   "cell_type": "code",
   "execution_count": null,
   "metadata": {},
   "outputs": [],
   "source": []
  }
 ],
 "metadata": {
  "kernelspec": {
   "display_name": "Python 3",
   "language": "python",
   "name": "python3"
  },
  "language_info": {
   "codemirror_mode": {
    "name": "ipython",
    "version": 3
   },
   "file_extension": ".py",
   "mimetype": "text/x-python",
   "name": "python",
   "nbconvert_exporter": "python",
   "pygments_lexer": "ipython3",
   "version": "3.8.3"
  },
  "toc": {
   "base_numbering": 1,
   "nav_menu": {},
   "number_sections": true,
   "sideBar": true,
   "skip_h1_title": false,
   "title_cell": "Table of Contents",
   "title_sidebar": "Contents",
   "toc_cell": false,
   "toc_position": {},
   "toc_section_display": true,
   "toc_window_display": false
  }
 },
 "nbformat": 4,
 "nbformat_minor": 4
}
