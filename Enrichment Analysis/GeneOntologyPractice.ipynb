{
 "cells": [
  {
   "cell_type": "markdown",
   "metadata": {},
   "source": [
    "# Practice with GO Term Tools\n"
   ]
  },
  {
   "cell_type": "markdown",
   "metadata": {},
   "source": [
    "## \"A Gene Ontology Tutorial in Python\" --> Vesztorcy & Dessimoz"
   ]
  },
  {
   "cell_type": "code",
   "execution_count": 1,
   "metadata": {
    "scrolled": true
   },
   "outputs": [
    {
     "name": "stdout",
     "output_type": "stream",
     "text": [
      "Collecting goatools\n",
      "  Downloading goatools-1.1.6.tar.gz (15.1 MB)\n",
      "\u001b[K     |████████████████████████████████| 15.1 MB 5.1 MB/s eta 0:00:01\n",
      "\u001b[?25hRequirement already satisfied: pandas in /home/skvdev17/anaconda3/lib/python3.8/site-packages (from goatools) (1.0.5)\n",
      "Requirement already satisfied: numpy in /home/skvdev17/anaconda3/lib/python3.8/site-packages (from goatools) (1.18.5)\n",
      "Requirement already satisfied: scipy in /home/skvdev17/anaconda3/lib/python3.8/site-packages (from goatools) (1.5.0)\n",
      "Requirement already satisfied: xlsxwriter in /home/skvdev17/anaconda3/lib/python3.8/site-packages (from goatools) (1.2.9)\n",
      "Requirement already satisfied: statsmodels in /home/skvdev17/anaconda3/lib/python3.8/site-packages (from goatools) (0.11.1)\n",
      "Requirement already satisfied: xlrd==1.2.0 in /home/skvdev17/anaconda3/lib/python3.8/site-packages (from goatools) (1.2.0)\n",
      "Collecting docopt\n",
      "  Downloading docopt-0.6.2.tar.gz (25 kB)\n",
      "Collecting pydot\n",
      "  Downloading pydot-1.4.2-py2.py3-none-any.whl (21 kB)\n",
      "Requirement already satisfied: requests in /home/skvdev17/anaconda3/lib/python3.8/site-packages (from goatools) (2.24.0)\n",
      "Collecting wget\n",
      "  Downloading wget-3.2.zip (10 kB)\n",
      "Requirement already satisfied: python-dateutil>=2.6.1 in /home/skvdev17/anaconda3/lib/python3.8/site-packages (from pandas->goatools) (2.8.1)\n",
      "Requirement already satisfied: pytz>=2017.2 in /home/skvdev17/anaconda3/lib/python3.8/site-packages (from pandas->goatools) (2020.1)\n",
      "Requirement already satisfied: patsy>=0.5 in /home/skvdev17/anaconda3/lib/python3.8/site-packages (from statsmodels->goatools) (0.5.1)\n",
      "Requirement already satisfied: pyparsing>=2.1.4 in /home/skvdev17/anaconda3/lib/python3.8/site-packages (from pydot->goatools) (2.4.7)\n",
      "Requirement already satisfied: chardet<4,>=3.0.2 in /home/skvdev17/anaconda3/lib/python3.8/site-packages (from requests->goatools) (3.0.4)\n",
      "Requirement already satisfied: idna<3,>=2.5 in /home/skvdev17/anaconda3/lib/python3.8/site-packages (from requests->goatools) (2.10)\n",
      "Requirement already satisfied: urllib3!=1.25.0,!=1.25.1,<1.26,>=1.21.1 in /home/skvdev17/anaconda3/lib/python3.8/site-packages (from requests->goatools) (1.25.9)\n",
      "Requirement already satisfied: certifi>=2017.4.17 in /home/skvdev17/anaconda3/lib/python3.8/site-packages (from requests->goatools) (2020.6.20)\n",
      "Requirement already satisfied: six>=1.5 in /home/skvdev17/anaconda3/lib/python3.8/site-packages (from python-dateutil>=2.6.1->pandas->goatools) (1.15.0)\n",
      "Building wheels for collected packages: goatools, docopt, wget\n",
      "  Building wheel for goatools (setup.py) ... \u001b[?25ldone\n",
      "\u001b[?25h  Created wheel for goatools: filename=goatools-1.1.6-py3-none-any.whl size=15762819 sha256=7a676d52878f62d5c9b9bbcafb7a3eb52c7989ccc9b0747ea1dc2d2a4169cfca\n",
      "  Stored in directory: /home/skvdev17/.cache/pip/wheels/53/5a/29/afa52b8fa386a287d52c6baff646643ea899b91499261e4fd7\n",
      "  Building wheel for docopt (setup.py) ... \u001b[?25ldone\n",
      "\u001b[?25h  Created wheel for docopt: filename=docopt-0.6.2-py2.py3-none-any.whl size=13704 sha256=b8d1c338e6c6e62e6fdc17a320321e5c50b479daadc953e4f91c6a2a2b879d86\n",
      "  Stored in directory: /home/skvdev17/.cache/pip/wheels/56/ea/58/ead137b087d9e326852a851351d1debf4ada529b6ac0ec4e8c\n",
      "  Building wheel for wget (setup.py) ... \u001b[?25ldone\n",
      "\u001b[?25h  Created wheel for wget: filename=wget-3.2-py3-none-any.whl size=9681 sha256=035c7b654c0eaee70fb1ce61aeb2ef97d16782b0efa38d4afaefc76676441a45\n",
      "  Stored in directory: /home/skvdev17/.cache/pip/wheels/bd/a8/c3/3cf2c14a1837a4e04bd98631724e81f33f462d86a1d895fae0\n",
      "Successfully built goatools docopt wget\n",
      "Installing collected packages: docopt, pydot, wget, goatools\n",
      "Successfully installed docopt-0.6.2 goatools-1.1.6 pydot-1.4.2 wget-3.2\n",
      "Note: you may need to restart the kernel to use updated packages.\n"
     ]
    }
   ],
   "source": [
    "pip install goatools\n",
    "# Needed to parse the Gene Ontology in OBO format, query, and visualize"
   ]
  },
  {
   "cell_type": "code",
   "execution_count": 3,
   "metadata": {},
   "outputs": [],
   "source": [
    "# Import the OBO parser from GOATools\n",
    "from goatools import obo_parser\n",
    "\n",
    "import wget\n",
    "import os"
   ]
  },
  {
   "cell_type": "code",
   "execution_count": 4,
   "metadata": {},
   "outputs": [],
   "source": [
    "go_obo_url = 'http://purl.obolibrary.org/obo/go/go-basic.obo'\n",
    "data_folder = os.getcwd() + '/data'\n",
    "\n",
    "# Check if we have the ./data directory already\n",
    "if(not os.path.isfile(data_folder)):\n",
    "    # Emulate mkdir -p (no error if folder exists)\n",
    "    try:\n",
    "        os.mkdir(data_folder)\n",
    "    except OSError as e:\n",
    "        if(e.errno != 17):\n",
    "            raise e\n",
    "else:\n",
    "    raise Exception('Data path (' + data_folder + ') exists as a file. '\n",
    "                   'Please rename, remove or change the desired location of the data path.')\n",
    "\n",
    "# Check if the file exists already\n",
    "if(not os.path.isfile(data_folder+'/go-basic.obo')):\n",
    "    go_obo = wget.download(go_obo_url, data_folder+'/go-basic.obo')\n",
    "else:\n",
    "    go_obo = data_folder+'/go-basic.obo'"
   ]
  },
  {
   "cell_type": "code",
   "execution_count": 7,
   "metadata": {},
   "outputs": [
    {
     "name": "stdout",
     "output_type": "stream",
     "text": [
      "/work/skvdev17/workspace/5G-rnaseq-sandbox/Enrichment Analysis/data/go-basic.obo: fmt(1.2) rel(2021-09-01) 47,191 GO Terms\n"
     ]
    }
   ],
   "source": [
    "go = obo_parser.GODag(go_obo)\n",
    "\n",
    "# Essentially, the GO DAG from the obo_parser() function gets us a dictionary of all the gene ontology in the given file with a specificed standardized format"
   ]
  },
  {
   "cell_type": "code",
   "execution_count": 32,
   "metadata": {},
   "outputs": [
    {
     "data": {
      "text/plain": [
       "'lateral root development'"
      ]
     },
     "execution_count": 32,
     "metadata": {},
     "output_type": "execute_result"
    }
   ],
   "source": [
    "#What is the name of the GO term GO:0048527?\n",
    "go_term = go['GO:0048527']\n",
    "go_term.name"
   ]
  },
  {
   "cell_type": "code",
   "execution_count": 36,
   "metadata": {},
   "outputs": [
    {
     "name": "stdout",
     "output_type": "stream",
     "text": [
      "GO:0048528\tlevel-04\tdepth-05\tpost-embryonic root development [biological_process]\n"
     ]
    }
   ],
   "source": [
    "for i in go_term.parents: \n",
    "    print(i)"
   ]
  },
  {
   "cell_type": "code",
   "execution_count": 37,
   "metadata": {},
   "outputs": [],
   "source": [
    "for i in go_term.children: \n",
    "    print(i)\n",
    "    \n",
    "# No input because there is no children for this granular gene ontology"
   ]
  },
  {
   "cell_type": "code",
   "execution_count": null,
   "metadata": {},
   "outputs": [],
   "source": []
  }
 ],
 "metadata": {
  "kernelspec": {
   "display_name": "Python 3",
   "language": "python",
   "name": "python3"
  },
  "language_info": {
   "codemirror_mode": {
    "name": "ipython",
    "version": 3
   },
   "file_extension": ".py",
   "mimetype": "text/x-python",
   "name": "python",
   "nbconvert_exporter": "python",
   "pygments_lexer": "ipython3",
   "version": "3.8.3"
  },
  "toc": {
   "base_numbering": 1,
   "nav_menu": {},
   "number_sections": true,
   "sideBar": true,
   "skip_h1_title": false,
   "title_cell": "Table of Contents",
   "title_sidebar": "Contents",
   "toc_cell": false,
   "toc_position": {},
   "toc_section_display": true,
   "toc_window_display": false
  }
 },
 "nbformat": 4,
 "nbformat_minor": 4
}
