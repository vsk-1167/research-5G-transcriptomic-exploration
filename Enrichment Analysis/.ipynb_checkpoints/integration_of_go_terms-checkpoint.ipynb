{
 "cells": [
  {
   "cell_type": "markdown",
   "metadata": {},
   "source": [
    "# GO Term Analysis"
   ]
  },
  {
   "cell_type": "code",
   "execution_count": 9,
   "metadata": {},
   "outputs": [],
   "source": [
    "import pandas as pd \n",
    "import pickle\n",
    "import seaborn as sns\n"
   ]
  },
  {
   "cell_type": "markdown",
   "metadata": {},
   "source": [
    "# Load Data"
   ]
  },
  {
   "cell_type": "code",
   "execution_count": 33,
   "metadata": {},
   "outputs": [
    {
     "name": "stdout",
     "output_type": "stream",
     "text": [
      "{'5GB1_ferm_Ack_QC_tpm': ' lowO2_slow_growth', '5GB1_ferm_WT_QC_tpm': ' lowO2_slow_growth', '5GB1_FM03_TR1_QC_tpm': ' uMax', '5GB1_FM03_TR2_QC_tpm': ' uMax', '5GB1_FM11_TR1_QC_tpm': ' lowO2_low_iron_fast_growth', '5GB1_FM11_TR2_QC_tpm': ' lowO2_low_iron_fast_growth', '5GB1_FM12_TR1_tpm': ' lowCH4', '5GB1_FM12_TR1_QC_tpm': ' lowCH4', '5GB1_FM12_TR2_tpm': ' lowCH4', '5GB1_FM12_TR2_QC_tpm': ' lowCH4', '5GB1_FM14_TR1_tpm': ' lowCH4', '5GB1_FM14_TR1_QC_tpm': ' lowCH4', '5GB1_FM14_TR2_tpm': ' lowCH4', '5GB1_FM14_TR2_QC_tpm': ' lowCH4', '5GB1_FM18_TR1_QC_tpm': ' MeOH', '5GB1_FM18_TR2_tpm': ' MeOH', '5GB1_FM18_TR2_QC_tpm': ' MeOH', '5GB1_FM18_TR3_tpm': ' MeOH', '5GB1_FM18_TR3_QC_tpm': ' MeOH', '5GB1_FM19_TR1_tpm': ' lowO2_fast_growth', '5GB1_FM19_TR1_QC_tpm': ' lowO2_fast_growth', '5GB1_FM19_TR1_UW_tpm': ' lowO2_fast_growth', '5GB1_FM19_TR3_tpm': ' lowO2_fast_growth', '5GB1_FM19_TR3_QC_tpm': ' lowO2_fast_growth', '5GB1_FM20_TR1_QC_tpm': ' uMax', '5GB1_FM20_TR2_QC_tpm': ' uMax', '5GB1_FM20_TR3_tpm': ' uMax', '5GB1_FM20_TR3_QC_tpm': ' uMax', '5GB1_FM20_TR3_UW_tpm': ' uMax', '5GB1_FM21_TR1_tpm': ' uMax', '5GB1_FM21_TR1_QC_tpm': ' uMax', '5GB1_FM21_TR2_tpm': ' uMax', '5GB1_FM21_TR2_QC_tpm': ' uMax', '5GB1_FM21_TR2_UW_tpm': ' uMax', '5GB1_FM22_TR1_tpm': ' lowO2_fast_growth', '5GB1_FM22_TR1_QC_tpm': ' lowO2_fast_growth', '5GB1_FM22_TR3_tpm': ' lowO2_fast_growth', '5GB1_FM22_TR3_QC_tpm': ' lowO2_fast_growth', '5GB1_FM22_TR3_UW_tpm': ' lowO2_fast_growth', '5GB1_FM23_TR3_tpm': ' MeOH', '5GB1_FM23_TR3_QC_tpm': ' MeOH', '5GB1_FM34_T0_TR1_QC_tpm': ' NoCu', '5GB1_FM34_T3_TR3_QC_tpm': ' medCu', '5GB1_FM34_T4_TR3_QC_tpm': ' highCu', '5GB1_FM34_T5_TR2_QC_tpm': ' highCu', '5GB1_FM34_T6_TR3_QC_tpm': ' highCu', '5GB1_FM34_T7_TR3_QC_tpm': ' highCu', '5GB1_FM34_T8_TR1_QC_tpm': ' highCu', '5GB1_FM40_T0_TR1_QC_tpm': ' NoCu', '5GB1_FM40_T0m_TR2_tpm': ' NoCu', '5GB1_FM40_T10m_TR3_tpm': ' lowCu', '5GB1_FM40_T10m_TR3_QC_tpm': ' lowCu', '5GB1_FM40_T150m_TR1_QC_tpm': ' medCu', '5GB1_FM40_T150m_TR1_remake_tpm': ' medCu', '5GB1_FM40_T180m_TR1_tpm': ' medCu', '5GB1_FM40_T180m_TR1_QC_tpm': ' medCu', '5GB1_FM40_T20m_TR2_tpm': ' lowCu', '5GB1_FM40_T20m_TR2_QC_tpm': ' lowCu', '5GB1_FM40_T40m_TR1_tpm': ' lowCu', '5GB1_FM40_T40m_TR1_QC_tpm': ' lowCu', '5GB1_FM40_T60m_TR1_tpm': ' lowCu', '5GB1_FM40_T60m_TR1_QC_tpm': ' lowCu', '5GB1_FM40_T90m_TR2_tpm': ' medCu', '5GB1_FM40_T90m_TR2_QC_tpm': ' medCu', '5GB1_FM58_Td20h_TR1_QC_tpm': ' slow_growth', '5GB1_FM58_Td32h_TR3_QC_tpm': ' slow_growth', '5GB1_FM69_t2_TR1_tpm': ' lowO2_slow_growth', '5GB1_FM69_t3_TR1_tpm': ' highO2_slow_growth', '5GB1_FM69_t3_TR1_UW_tpm': ' highO2_slow_growth', '5GB1_FM69_t4_TR1_tpm': ' highO2_slow_growth', '5GB1_FM69_t4_TR1_UW_tpm': ' highO2_slow_growth', '5GB1_FM80_t2_TR1_tpm': ' NO3_lowO2_slow_growth', '5GB1_FM80_t4_TR1_tpm': ' NO3_lowO2_slow_growth', '5GB1_FM81_t1_TR3_tpm': ' NO3_lowO2_slow_growth', '5GB1_FM81_t2_TR3_tpm': ' NO3_lowO2_slow_growth', '5GB1_LTrecycle_TR1_tpm': ' LanzaTech', '5GB1_LTrecycle_TR1_QC_tpm': ' LanzaTech', '5GB1_vial_wLa_TR3_tpm': ' WithLanthanum', '5GB1_vial_woLa_TR2_tpm': ' NoLanthanum', '5GB1C_latelog_vial_TR2_QC_tpm': ' unknown', 'br1_QC_tpm': ' unknown', 'br2_QC_tpm': ' unknown', 'ribo0_tpm': ' unknown', 'total_tpm': ' unknown', '5GB1_FM_85_TR1_tpm': ' aa3_KO', '5GB1_FM_85_TR2_tpm': ' aa3_KO', '5GB1_FM_86_TR1_tpm': ' WT_control', '5GB1_FM_87_TR1_tpm': ' WT_control', '5GB1_pA9_red_tpm': ' crotonic_acid', '5GB1_pA9_yellow_tpm': ' crotonic_acid', '5GB1C-5G-La-BR1_tpm': ' WithLanthanum', '5GB1C-5G-La-BR2_tpm': ' WithLanthanum', '5GB1C-5G-N-BR1_tpm': ' NoLanthanum', '5GB1C-5G-N-BR2_tpm': ' NoLanthanum', '5GB1C-JG15-La-BR1_tpm': ' WithLanthanum', '5GB1C-JG15-La-BR2_tpm': ' WithLanthanum', '5GB1C-JG15-N-BR1_tpm': ' NoLanthanum', '5GB1C-JG15-N-BR2_tpm': ' NoLanthanum'}\n"
     ]
    }
   ],
   "source": [
    "condition_to_loci_file = \"../data/new_sample2condition.txt\"\n",
    "\n",
    "    \n",
    "# load mapping from sample to condition\n",
    "with open(condition_to_loci_file,'r') as f:\n",
    "    loci_to_condition = str(f.readline()[1:(len(f.readline())-1)]).split(',')\n",
    "\n",
    "    x = dict(loci.strip().replace('\"', \"\").split(':') for loci in loci_to_condition)\n",
    "    \n",
    "    print(x)\n",
    "    \n",
    "        \n",
    "# load mapping from sample to condition\n",
    "# with open(sample2condition_file,'r') as f:\n",
    "#     sample2condition = dict(x.strip().split() for x in f.readlines())\n",
    "    "
   ]
  },
  {
   "cell_type": "code",
   "execution_count": null,
   "metadata": {},
   "outputs": [],
   "source": []
  }
 ],
 "metadata": {
  "kernelspec": {
   "display_name": "Python 3",
   "language": "python",
   "name": "python3"
  },
  "language_info": {
   "codemirror_mode": {
    "name": "ipython",
    "version": 3
   },
   "file_extension": ".py",
   "mimetype": "text/x-python",
   "name": "python",
   "nbconvert_exporter": "python",
   "pygments_lexer": "ipython3",
   "version": "3.8.3"
  },
  "toc": {
   "base_numbering": 1,
   "nav_menu": {},
   "number_sections": true,
   "sideBar": true,
   "skip_h1_title": false,
   "title_cell": "Table of Contents",
   "title_sidebar": "Contents",
   "toc_cell": false,
   "toc_position": {},
   "toc_section_display": true,
   "toc_window_display": false
  }
 },
 "nbformat": 4,
 "nbformat_minor": 4
}
