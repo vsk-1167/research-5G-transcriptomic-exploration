{
 "cells": [
  {
   "cell_type": "markdown",
   "metadata": {},
   "source": [
    "# Clustering exploration"
   ]
  },
  {
   "cell_type": "code",
   "execution_count": 1,
   "metadata": {},
   "outputs": [],
   "source": [
    "import altair as alt\n",
    "import pandas as pd\n",
    "import numpy as np\n",
    "import matplotlib.pyplot as plt\n",
    "import seaborn as sns\n",
    "from sklearn.decomposition import PCA\n",
    "from sklearn.preprocessing import StandardScaler\n",
    "from sklearn.cluster import KMeans\n",
    "from collections import defaultdict"
   ]
  },
  {
   "cell_type": "markdown",
   "metadata": {},
   "source": [
    "## load dfs from PCA file"
   ]
  },
  {
   "cell_type": "code",
   "execution_count": 4,
   "metadata": {},
   "outputs": [
    {
     "ename": "FileNotFoundError",
     "evalue": "[Errno 2] No such file or directory: 'mat_save/dft_piv.tsv'",
     "output_type": "error",
     "traceback": [
      "\u001b[0;31m---------------------------------------------------------------------------\u001b[0m",
      "\u001b[0;31mFileNotFoundError\u001b[0m                         Traceback (most recent call last)",
      "\u001b[0;32m<ipython-input-4-dbcdaf29a795>\u001b[0m in \u001b[0;36m<module>\u001b[0;34m\u001b[0m\n\u001b[0;32m----> 1\u001b[0;31m \u001b[0mdft_piv\u001b[0m \u001b[0;34m=\u001b[0m \u001b[0mpd\u001b[0m\u001b[0;34m.\u001b[0m\u001b[0mread_csv\u001b[0m\u001b[0;34m(\u001b[0m\u001b[0;34m\"mat_save/dft_piv.tsv\"\u001b[0m\u001b[0;34m,\u001b[0m\u001b[0msep\u001b[0m\u001b[0;34m=\u001b[0m\u001b[0;34m'\\t'\u001b[0m\u001b[0;34m)\u001b[0m\u001b[0;34m.\u001b[0m\u001b[0mfillna\u001b[0m\u001b[0;34m(\u001b[0m\u001b[0;34m''\u001b[0m\u001b[0;34m)\u001b[0m\u001b[0;34m\u001b[0m\u001b[0;34m\u001b[0m\u001b[0m\n\u001b[0m\u001b[1;32m      2\u001b[0m \u001b[0mmdf_piv\u001b[0m \u001b[0;34m=\u001b[0m \u001b[0mpd\u001b[0m\u001b[0;34m.\u001b[0m\u001b[0mread_csv\u001b[0m\u001b[0;34m(\u001b[0m\u001b[0;34m\"mat_save/mdf_piv.tsv\"\u001b[0m\u001b[0;34m,\u001b[0m\u001b[0msep\u001b[0m\u001b[0;34m=\u001b[0m\u001b[0;34m'\\t'\u001b[0m\u001b[0;34m)\u001b[0m\u001b[0;34m.\u001b[0m\u001b[0mfillna\u001b[0m\u001b[0;34m(\u001b[0m\u001b[0;34m''\u001b[0m\u001b[0;34m)\u001b[0m\u001b[0;34m\u001b[0m\u001b[0;34m\u001b[0m\u001b[0m\n\u001b[1;32m      3\u001b[0m \u001b[0mmdf_piv_norm\u001b[0m \u001b[0;34m=\u001b[0m \u001b[0mpd\u001b[0m\u001b[0;34m.\u001b[0m\u001b[0mread_csv\u001b[0m\u001b[0;34m(\u001b[0m\u001b[0;34m\"mat_save/mdf_piv_norm.tsv\"\u001b[0m\u001b[0;34m,\u001b[0m\u001b[0msep\u001b[0m\u001b[0;34m=\u001b[0m\u001b[0;34m'\\t'\u001b[0m\u001b[0;34m)\u001b[0m\u001b[0;34m.\u001b[0m\u001b[0mfillna\u001b[0m\u001b[0;34m(\u001b[0m\u001b[0;34m''\u001b[0m\u001b[0;34m)\u001b[0m\u001b[0;34m\u001b[0m\u001b[0;34m\u001b[0m\u001b[0m\n\u001b[1;32m      4\u001b[0m \u001b[0mmdf_piv_norm_nocu\u001b[0m \u001b[0;34m=\u001b[0m \u001b[0mpd\u001b[0m\u001b[0;34m.\u001b[0m\u001b[0mread_csv\u001b[0m\u001b[0;34m(\u001b[0m\u001b[0;34m\"mat_save/mdf_piv_norm_nocu.tsv\"\u001b[0m\u001b[0;34m,\u001b[0m\u001b[0msep\u001b[0m\u001b[0;34m=\u001b[0m\u001b[0;34m'\\t'\u001b[0m\u001b[0;34m)\u001b[0m\u001b[0;34m.\u001b[0m\u001b[0mfillna\u001b[0m\u001b[0;34m(\u001b[0m\u001b[0;34m''\u001b[0m\u001b[0;34m)\u001b[0m\u001b[0;34m\u001b[0m\u001b[0;34m\u001b[0m\u001b[0m\n\u001b[1;32m      5\u001b[0m \u001b[0mmdf_piv_norm_nocu_subset\u001b[0m \u001b[0;34m=\u001b[0m \u001b[0mpd\u001b[0m\u001b[0;34m.\u001b[0m\u001b[0mread_csv\u001b[0m\u001b[0;34m(\u001b[0m\u001b[0;34m\"mat_save/mdf_piv_norm_nocu_subset.tsv\"\u001b[0m\u001b[0;34m,\u001b[0m\u001b[0msep\u001b[0m\u001b[0;34m=\u001b[0m\u001b[0;34m'\\t'\u001b[0m\u001b[0;34m)\u001b[0m\u001b[0;34m.\u001b[0m\u001b[0mfillna\u001b[0m\u001b[0;34m(\u001b[0m\u001b[0;34m''\u001b[0m\u001b[0;34m)\u001b[0m\u001b[0;34m\u001b[0m\u001b[0;34m\u001b[0m\u001b[0m\n",
      "\u001b[0;32m~/anaconda3/envs/sandbox/lib/python3.8/site-packages/pandas/io/parsers.py\u001b[0m in \u001b[0;36mread_csv\u001b[0;34m(filepath_or_buffer, sep, delimiter, header, names, index_col, usecols, squeeze, prefix, mangle_dupe_cols, dtype, engine, converters, true_values, false_values, skipinitialspace, skiprows, skipfooter, nrows, na_values, keep_default_na, na_filter, verbose, skip_blank_lines, parse_dates, infer_datetime_format, keep_date_col, date_parser, dayfirst, cache_dates, iterator, chunksize, compression, thousands, decimal, lineterminator, quotechar, quoting, doublequote, escapechar, comment, encoding, dialect, error_bad_lines, warn_bad_lines, delim_whitespace, low_memory, memory_map, float_precision)\u001b[0m\n\u001b[1;32m    684\u001b[0m     )\n\u001b[1;32m    685\u001b[0m \u001b[0;34m\u001b[0m\u001b[0m\n\u001b[0;32m--> 686\u001b[0;31m     \u001b[0;32mreturn\u001b[0m \u001b[0m_read\u001b[0m\u001b[0;34m(\u001b[0m\u001b[0mfilepath_or_buffer\u001b[0m\u001b[0;34m,\u001b[0m \u001b[0mkwds\u001b[0m\u001b[0;34m)\u001b[0m\u001b[0;34m\u001b[0m\u001b[0;34m\u001b[0m\u001b[0m\n\u001b[0m\u001b[1;32m    687\u001b[0m \u001b[0;34m\u001b[0m\u001b[0m\n\u001b[1;32m    688\u001b[0m \u001b[0;34m\u001b[0m\u001b[0m\n",
      "\u001b[0;32m~/anaconda3/envs/sandbox/lib/python3.8/site-packages/pandas/io/parsers.py\u001b[0m in \u001b[0;36m_read\u001b[0;34m(filepath_or_buffer, kwds)\u001b[0m\n\u001b[1;32m    450\u001b[0m \u001b[0;34m\u001b[0m\u001b[0m\n\u001b[1;32m    451\u001b[0m     \u001b[0;31m# Create the parser.\u001b[0m\u001b[0;34m\u001b[0m\u001b[0;34m\u001b[0m\u001b[0;34m\u001b[0m\u001b[0m\n\u001b[0;32m--> 452\u001b[0;31m     \u001b[0mparser\u001b[0m \u001b[0;34m=\u001b[0m \u001b[0mTextFileReader\u001b[0m\u001b[0;34m(\u001b[0m\u001b[0mfp_or_buf\u001b[0m\u001b[0;34m,\u001b[0m \u001b[0;34m**\u001b[0m\u001b[0mkwds\u001b[0m\u001b[0;34m)\u001b[0m\u001b[0;34m\u001b[0m\u001b[0;34m\u001b[0m\u001b[0m\n\u001b[0m\u001b[1;32m    453\u001b[0m \u001b[0;34m\u001b[0m\u001b[0m\n\u001b[1;32m    454\u001b[0m     \u001b[0;32mif\u001b[0m \u001b[0mchunksize\u001b[0m \u001b[0;32mor\u001b[0m \u001b[0miterator\u001b[0m\u001b[0;34m:\u001b[0m\u001b[0;34m\u001b[0m\u001b[0;34m\u001b[0m\u001b[0m\n",
      "\u001b[0;32m~/anaconda3/envs/sandbox/lib/python3.8/site-packages/pandas/io/parsers.py\u001b[0m in \u001b[0;36m__init__\u001b[0;34m(self, f, engine, **kwds)\u001b[0m\n\u001b[1;32m    934\u001b[0m             \u001b[0mself\u001b[0m\u001b[0;34m.\u001b[0m\u001b[0moptions\u001b[0m\u001b[0;34m[\u001b[0m\u001b[0;34m\"has_index_names\"\u001b[0m\u001b[0;34m]\u001b[0m \u001b[0;34m=\u001b[0m \u001b[0mkwds\u001b[0m\u001b[0;34m[\u001b[0m\u001b[0;34m\"has_index_names\"\u001b[0m\u001b[0;34m]\u001b[0m\u001b[0;34m\u001b[0m\u001b[0;34m\u001b[0m\u001b[0m\n\u001b[1;32m    935\u001b[0m \u001b[0;34m\u001b[0m\u001b[0m\n\u001b[0;32m--> 936\u001b[0;31m         \u001b[0mself\u001b[0m\u001b[0;34m.\u001b[0m\u001b[0m_make_engine\u001b[0m\u001b[0;34m(\u001b[0m\u001b[0mself\u001b[0m\u001b[0;34m.\u001b[0m\u001b[0mengine\u001b[0m\u001b[0;34m)\u001b[0m\u001b[0;34m\u001b[0m\u001b[0;34m\u001b[0m\u001b[0m\n\u001b[0m\u001b[1;32m    937\u001b[0m \u001b[0;34m\u001b[0m\u001b[0m\n\u001b[1;32m    938\u001b[0m     \u001b[0;32mdef\u001b[0m \u001b[0mclose\u001b[0m\u001b[0;34m(\u001b[0m\u001b[0mself\u001b[0m\u001b[0;34m)\u001b[0m\u001b[0;34m:\u001b[0m\u001b[0;34m\u001b[0m\u001b[0;34m\u001b[0m\u001b[0m\n",
      "\u001b[0;32m~/anaconda3/envs/sandbox/lib/python3.8/site-packages/pandas/io/parsers.py\u001b[0m in \u001b[0;36m_make_engine\u001b[0;34m(self, engine)\u001b[0m\n\u001b[1;32m   1166\u001b[0m     \u001b[0;32mdef\u001b[0m \u001b[0m_make_engine\u001b[0m\u001b[0;34m(\u001b[0m\u001b[0mself\u001b[0m\u001b[0;34m,\u001b[0m \u001b[0mengine\u001b[0m\u001b[0;34m=\u001b[0m\u001b[0;34m\"c\"\u001b[0m\u001b[0;34m)\u001b[0m\u001b[0;34m:\u001b[0m\u001b[0;34m\u001b[0m\u001b[0;34m\u001b[0m\u001b[0m\n\u001b[1;32m   1167\u001b[0m         \u001b[0;32mif\u001b[0m \u001b[0mengine\u001b[0m \u001b[0;34m==\u001b[0m \u001b[0;34m\"c\"\u001b[0m\u001b[0;34m:\u001b[0m\u001b[0;34m\u001b[0m\u001b[0;34m\u001b[0m\u001b[0m\n\u001b[0;32m-> 1168\u001b[0;31m             \u001b[0mself\u001b[0m\u001b[0;34m.\u001b[0m\u001b[0m_engine\u001b[0m \u001b[0;34m=\u001b[0m \u001b[0mCParserWrapper\u001b[0m\u001b[0;34m(\u001b[0m\u001b[0mself\u001b[0m\u001b[0;34m.\u001b[0m\u001b[0mf\u001b[0m\u001b[0;34m,\u001b[0m \u001b[0;34m**\u001b[0m\u001b[0mself\u001b[0m\u001b[0;34m.\u001b[0m\u001b[0moptions\u001b[0m\u001b[0;34m)\u001b[0m\u001b[0;34m\u001b[0m\u001b[0;34m\u001b[0m\u001b[0m\n\u001b[0m\u001b[1;32m   1169\u001b[0m         \u001b[0;32melse\u001b[0m\u001b[0;34m:\u001b[0m\u001b[0;34m\u001b[0m\u001b[0;34m\u001b[0m\u001b[0m\n\u001b[1;32m   1170\u001b[0m             \u001b[0;32mif\u001b[0m \u001b[0mengine\u001b[0m \u001b[0;34m==\u001b[0m \u001b[0;34m\"python\"\u001b[0m\u001b[0;34m:\u001b[0m\u001b[0;34m\u001b[0m\u001b[0;34m\u001b[0m\u001b[0m\n",
      "\u001b[0;32m~/anaconda3/envs/sandbox/lib/python3.8/site-packages/pandas/io/parsers.py\u001b[0m in \u001b[0;36m__init__\u001b[0;34m(self, src, **kwds)\u001b[0m\n\u001b[1;32m   1996\u001b[0m         \u001b[0mkwds\u001b[0m\u001b[0;34m[\u001b[0m\u001b[0;34m\"usecols\"\u001b[0m\u001b[0;34m]\u001b[0m \u001b[0;34m=\u001b[0m \u001b[0mself\u001b[0m\u001b[0;34m.\u001b[0m\u001b[0musecols\u001b[0m\u001b[0;34m\u001b[0m\u001b[0;34m\u001b[0m\u001b[0m\n\u001b[1;32m   1997\u001b[0m \u001b[0;34m\u001b[0m\u001b[0m\n\u001b[0;32m-> 1998\u001b[0;31m         \u001b[0mself\u001b[0m\u001b[0;34m.\u001b[0m\u001b[0m_reader\u001b[0m \u001b[0;34m=\u001b[0m \u001b[0mparsers\u001b[0m\u001b[0;34m.\u001b[0m\u001b[0mTextReader\u001b[0m\u001b[0;34m(\u001b[0m\u001b[0msrc\u001b[0m\u001b[0;34m,\u001b[0m \u001b[0;34m**\u001b[0m\u001b[0mkwds\u001b[0m\u001b[0;34m)\u001b[0m\u001b[0;34m\u001b[0m\u001b[0;34m\u001b[0m\u001b[0m\n\u001b[0m\u001b[1;32m   1999\u001b[0m         \u001b[0mself\u001b[0m\u001b[0;34m.\u001b[0m\u001b[0munnamed_cols\u001b[0m \u001b[0;34m=\u001b[0m \u001b[0mself\u001b[0m\u001b[0;34m.\u001b[0m\u001b[0m_reader\u001b[0m\u001b[0;34m.\u001b[0m\u001b[0munnamed_cols\u001b[0m\u001b[0;34m\u001b[0m\u001b[0;34m\u001b[0m\u001b[0m\n\u001b[1;32m   2000\u001b[0m \u001b[0;34m\u001b[0m\u001b[0m\n",
      "\u001b[0;32mpandas/_libs/parsers.pyx\u001b[0m in \u001b[0;36mpandas._libs.parsers.TextReader.__cinit__\u001b[0;34m()\u001b[0m\n",
      "\u001b[0;32mpandas/_libs/parsers.pyx\u001b[0m in \u001b[0;36mpandas._libs.parsers.TextReader._setup_parser_source\u001b[0;34m()\u001b[0m\n",
      "\u001b[0;31mFileNotFoundError\u001b[0m: [Errno 2] No such file or directory: 'mat_save/dft_piv.tsv'"
     ]
    }
   ],
   "source": [
    "dft_piv = pd.read_csv(\"mat_save/dft_piv.tsv\",sep='\\t').fillna('')\n",
    "mdf_piv = pd.read_csv(\"mat_save/mdf_piv.tsv\",sep='\\t').fillna('')\n",
    "mdf_piv_norm = pd.read_csv(\"mat_save/mdf_piv_norm.tsv\",sep='\\t').fillna('')\n",
    "mdf_piv_norm_nocu = pd.read_csv(\"mat_save/mdf_piv_norm_nocu.tsv\",sep='\\t').fillna('')\n",
    "mdf_piv_norm_nocu_subset = pd.read_csv(\"mat_save/mdf_piv_norm_nocu_subset.tsv\",sep='\\t').fillna('')\n"
   ]
  },
  {
   "cell_type": "code",
   "execution_count": null,
   "metadata": {},
   "outputs": [],
   "source": [
    "mdf_piv.head()"
   ]
  },
  {
   "cell_type": "code",
   "execution_count": null,
   "metadata": {},
   "outputs": [],
   "source": [
    "# establish list of samples and experiment conditions\n",
    "coord_cols = ['pc1','pc2','pc3','tsne1','tsne2']\n",
    "samples = list(dft_piv.drop(coord_cols,axis=1).select_dtypes(include=['float']).columns)\n",
    "exp_conds = list(mdf_piv.drop(coord_cols,axis=1).select_dtypes(include=['float']).columns)\n",
    "exp_subset = ['uMax','lowCH4','NoCu','lowCu','medCu','highCu','NO3_lowO2_slow_growth','highO2_slow_growth','lowO2_fast_growth','MeOH','NoLanthanum','WithLanthanum'] "
   ]
  },
  {
   "cell_type": "code",
   "execution_count": null,
   "metadata": {},
   "outputs": [],
   "source": []
  },
  {
   "cell_type": "markdown",
   "metadata": {},
   "source": [
    "## K-means clustering and viz functions"
   ]
  },
  {
   "cell_type": "code",
   "execution_count": 5,
   "metadata": {},
   "outputs": [],
   "source": [
    "def run_kmeans(df_orig,cols,k=20):\n",
    "    # make of copy of the original df\n",
    "    df = df_orig.copy(deep=True)\n",
    "    \n",
    "    # kmean object\n",
    "    km = KMeans(\n",
    "        n_clusters=k, init='random',\n",
    "        n_init=10, max_iter=300, \n",
    "        tol=1e-04, random_state=0\n",
    "    )\n",
    "\n",
    "    scaler = StandardScaler()\n",
    "    X = scaler.fit_transform(df[cols])\n",
    "\n",
    "    y_km = km.fit_predict(X)\n",
    "    \n",
    "\n",
    "    df['cluster_id'] = y_km\n",
    "    print(df.shape)\n",
    "    \n",
    "    return df,X\n",
    "\n",
    "# count the number of genes per cluster\n",
    "def count_clusters(clust_df):\n",
    "    clusters = defaultdict(list)\n",
    "    for i,row in clust_df.iterrows():\n",
    "        clusters[row['cluster_id']].append(row['locus_tag'])\n",
    "\n",
    "    clust_counts = []\n",
    "    for c in clusters:\n",
    "        clust_counts.append((c,len(clusters[c])))\n",
    "    \n",
    "    return clusters,clust_counts\n",
    "\n",
    "def view_cluster_counts(clust_counts):\n",
    "    clustdf = pd.DataFrame(clust_counts, \n",
    "              columns=[\"cluster\",\"count\"])\n",
    "\n",
    "    sns.barplot(data=clustdf, x='cluster',y='count',palette='hls')\n",
    "    plt.show()\n",
    "#     return alt.Chart(clustdf\n",
    "#              ).mark_bar().encode(\n",
    "#         x='cluster:O',\n",
    "#         y='count:Q'\n",
    "#     )\n",
    "\n",
    "def alt_3pcs_tsne(df,fname):\n",
    "    '''\n",
    "    Given a df with cluster ids and pcs, visualize pcs 1,2,3 with clusters colored\n",
    "    '''\n",
    "    def pc_chart(x,y,pc_title):\n",
    "        sel = alt.selection_multi(fields=['cluster_id'], bind='legend')\n",
    "        chart = alt.Chart(df,\n",
    "                            title=f\"{pc_title} (Genes)\",\n",
    "                            height=300,\n",
    "                            width=300\n",
    "                           ).mark_circle().encode(\n",
    "            x=x,\n",
    "            y=y,\n",
    "            color=alt.Color('cluster_id:N',scale=alt.Scale(scheme='sinebow')),\n",
    "            tooltip=['locus_tag:N', 'type:N','gene_symbol:N', 'product:N','sys:N','cluster_id:N'],\n",
    "            opacity=alt.condition(sel, alt.value(1), alt.value(0.2)),\n",
    "            size=alt.condition(sel, alt.value(200), alt.value(100)),\n",
    "        ).add_selection(\n",
    "            sel,\n",
    "        ).interactive()\n",
    "        \n",
    "        return chart\n",
    "    \n",
    "    chart12 = pc_chart('pc1:Q', 'pc2:Q', 'PCA of PC 1 and 2')\n",
    "    chart23 = pc_chart('pc2:Q', 'pc3:Q', 'PCA of PC 2 and 3')\n",
    "    chart13 = pc_chart('pc1:Q', 'pc3:Q', 'PCA of PC 1 and 3')\n",
    "    chart_tsne = pc_chart('tsne1:Q', 'tsne2:Q', 'TSNE')\n",
    "    \n",
    "#     display(chart12)\n",
    "#     display(chart23)\n",
    "#     display(chart13)\n",
    "#     display(chart_tsne)\n",
    "    chart12.save(f\"altair_out/clustered_{fname}_pc12.html\")\n",
    "    chart23.save(f\"altair_out/clustered_{fname}_pc23.html\")\n",
    "    chart13.save(f\"altair_out/clustered_{fname}_pc13.html\")\n",
    "    chart_tsne.save(f\"altair_out/clustered_{fname}_tsne.html\")\n",
    "    \n",
    "def kmeans_bundle(df,cols,fname):\n",
    "    df_clust, X = run_kmeans(df, cols)\n",
    "    clusters, clust_counts = count_clusters(df_clust)\n",
    "    view_cluster_counts(clust_counts)\n",
    "    alt_3pcs_tsne(df_clust,fname)\n",
    "    \n",
    "    return df_clust, X, clusters, clust_counts\n",
    "    "
   ]
  },
  {
   "cell_type": "markdown",
   "metadata": {},
   "source": [
    "# NOTE: check \"altair_out/\" for altair viz! Or uncomment \"display\" `alt_3pcs_tsne()`"
   ]
  },
  {
   "cell_type": "code",
   "execution_count": 9,
   "metadata": {
    "scrolled": false
   },
   "outputs": [
    {
     "ename": "NameError",
     "evalue": "name 'dft_piv' is not defined",
     "output_type": "error",
     "traceback": [
      "\u001b[0;31m---------------------------------------------------------------------------\u001b[0m",
      "\u001b[0;31mNameError\u001b[0m                                 Traceback (most recent call last)",
      "\u001b[0;32m<ipython-input-9-286e8ca59b0c>\u001b[0m in \u001b[0;36m<module>\u001b[0;34m\u001b[0m\n\u001b[1;32m      2\u001b[0m \u001b[0mdft_piv_clust_X\u001b[0m\u001b[0;34m,\u001b[0m\u001b[0;31m \u001b[0m\u001b[0;31m\\\u001b[0m\u001b[0;34m\u001b[0m\u001b[0;34m\u001b[0m\u001b[0m\n\u001b[1;32m      3\u001b[0m \u001b[0mdft_piv_clusters\u001b[0m\u001b[0;34m,\u001b[0m\u001b[0;31m\\\u001b[0m\u001b[0;34m\u001b[0m\u001b[0;34m\u001b[0m\u001b[0m\n\u001b[0;32m----> 4\u001b[0;31m \u001b[0mdft_piv_clust_counts\u001b[0m \u001b[0;34m=\u001b[0m \u001b[0mkmeans_bundle\u001b[0m\u001b[0;34m(\u001b[0m\u001b[0mdft_piv\u001b[0m\u001b[0;34m,\u001b[0m\u001b[0msamples\u001b[0m\u001b[0;34m,\u001b[0m\u001b[0;34m\"genes_samp\"\u001b[0m\u001b[0;34m)\u001b[0m\u001b[0;34m\u001b[0m\u001b[0;34m\u001b[0m\u001b[0m\n\u001b[0m",
      "\u001b[0;31mNameError\u001b[0m: name 'dft_piv' is not defined"
     ]
    }
   ],
   "source": [
    "dft_piv_clust_df,\\\n",
    "dft_piv_clust_X, \\\n",
    "dft_piv_clusters,\\\n",
    "dft_piv_clust_counts = kmeans_bundle(dft_piv,samples,\"genes_samp\")"
   ]
  },
  {
   "cell_type": "code",
   "execution_count": 10,
   "metadata": {
    "scrolled": false
   },
   "outputs": [
    {
     "ename": "NameError",
     "evalue": "name 'mdf_piv' is not defined",
     "output_type": "error",
     "traceback": [
      "\u001b[0;31m---------------------------------------------------------------------------\u001b[0m",
      "\u001b[0;31mNameError\u001b[0m                                 Traceback (most recent call last)",
      "\u001b[0;32m<ipython-input-10-afda41138951>\u001b[0m in \u001b[0;36m<module>\u001b[0;34m\u001b[0m\n\u001b[1;32m      2\u001b[0m \u001b[0mmdf_piv_clust_X\u001b[0m\u001b[0;34m,\u001b[0m\u001b[0;31m \u001b[0m\u001b[0;31m\\\u001b[0m\u001b[0;34m\u001b[0m\u001b[0;34m\u001b[0m\u001b[0m\n\u001b[1;32m      3\u001b[0m \u001b[0mmdf_piv_clusters\u001b[0m\u001b[0;34m,\u001b[0m\u001b[0;31m\\\u001b[0m\u001b[0;34m\u001b[0m\u001b[0;34m\u001b[0m\u001b[0m\n\u001b[0;32m----> 4\u001b[0;31m \u001b[0mmdf_piv_clust_counts\u001b[0m \u001b[0;34m=\u001b[0m \u001b[0mkmeans_bundle\u001b[0m\u001b[0;34m(\u001b[0m\u001b[0mmdf_piv\u001b[0m\u001b[0;34m,\u001b[0m\u001b[0mexp_conds\u001b[0m\u001b[0;34m,\u001b[0m\u001b[0;34m\"genes_exp_ave\"\u001b[0m\u001b[0;34m)\u001b[0m\u001b[0;34m\u001b[0m\u001b[0;34m\u001b[0m\u001b[0m\n\u001b[0m",
      "\u001b[0;31mNameError\u001b[0m: name 'mdf_piv' is not defined"
     ]
    }
   ],
   "source": [
    "mdf_piv_clust_df,\\\n",
    "mdf_piv_clust_X, \\\n",
    "mdf_piv_clusters,\\\n",
    "mdf_piv_clust_counts = kmeans_bundle(mdf_piv,exp_conds,\"genes_exp_ave\")\n"
   ]
  },
  {
   "cell_type": "code",
   "execution_count": 11,
   "metadata": {},
   "outputs": [
    {
     "ename": "NameError",
     "evalue": "name 'mdf_piv_norm' is not defined",
     "output_type": "error",
     "traceback": [
      "\u001b[0;31m---------------------------------------------------------------------------\u001b[0m",
      "\u001b[0;31mNameError\u001b[0m                                 Traceback (most recent call last)",
      "\u001b[0;32m<ipython-input-11-1615bcb1de70>\u001b[0m in \u001b[0;36m<module>\u001b[0;34m\u001b[0m\n\u001b[1;32m      2\u001b[0m \u001b[0mmdf_piv_norm_clust_X\u001b[0m\u001b[0;34m,\u001b[0m\u001b[0;31m \u001b[0m\u001b[0;31m\\\u001b[0m\u001b[0;34m\u001b[0m\u001b[0;34m\u001b[0m\u001b[0m\n\u001b[1;32m      3\u001b[0m \u001b[0mmdf_piv_norm_clusters\u001b[0m\u001b[0;34m,\u001b[0m\u001b[0;31m\\\u001b[0m\u001b[0;34m\u001b[0m\u001b[0;34m\u001b[0m\u001b[0m\n\u001b[0;32m----> 4\u001b[0;31m \u001b[0mmdf_piv_norm_clust_counts\u001b[0m \u001b[0;34m=\u001b[0m \u001b[0mkmeans_bundle\u001b[0m\u001b[0;34m(\u001b[0m\u001b[0mmdf_piv_norm\u001b[0m\u001b[0;34m,\u001b[0m \u001b[0mexp_conds\u001b[0m\u001b[0;34m,\u001b[0m\u001b[0;34m\"genes_exp_ave_norm\"\u001b[0m\u001b[0;34m)\u001b[0m\u001b[0;34m\u001b[0m\u001b[0;34m\u001b[0m\u001b[0m\n\u001b[0m",
      "\u001b[0;31mNameError\u001b[0m: name 'mdf_piv_norm' is not defined"
     ]
    }
   ],
   "source": [
    "mdf_piv_norm_clust_df,\\\n",
    "mdf_piv_norm_clust_X, \\\n",
    "mdf_piv_norm_clusters,\\\n",
    "mdf_piv_norm_clust_counts = kmeans_bundle(mdf_piv_norm, exp_conds,\"genes_exp_ave_norm\")"
   ]
  },
  {
   "cell_type": "code",
   "execution_count": 12,
   "metadata": {
    "scrolled": true
   },
   "outputs": [
    {
     "ename": "NameError",
     "evalue": "name 'mdf_piv_norm_nocu' is not defined",
     "output_type": "error",
     "traceback": [
      "\u001b[0;31m---------------------------------------------------------------------------\u001b[0m",
      "\u001b[0;31mNameError\u001b[0m                                 Traceback (most recent call last)",
      "\u001b[0;32m<ipython-input-12-4aa0de1a3919>\u001b[0m in \u001b[0;36m<module>\u001b[0;34m\u001b[0m\n\u001b[1;32m      2\u001b[0m \u001b[0mmdf_piv_norm_nocu_clust_X\u001b[0m\u001b[0;34m,\u001b[0m\u001b[0;31m \u001b[0m\u001b[0;31m\\\u001b[0m\u001b[0;34m\u001b[0m\u001b[0;34m\u001b[0m\u001b[0m\n\u001b[1;32m      3\u001b[0m \u001b[0mmdf_piv_norm_nocu_clusters\u001b[0m\u001b[0;34m,\u001b[0m\u001b[0;31m\\\u001b[0m\u001b[0;34m\u001b[0m\u001b[0;34m\u001b[0m\u001b[0m\n\u001b[0;32m----> 4\u001b[0;31m \u001b[0mmdf_piv_norm_nocu_clust_counts\u001b[0m \u001b[0;34m=\u001b[0m \u001b[0mkmeans_bundle\u001b[0m\u001b[0;34m(\u001b[0m\u001b[0mmdf_piv_norm_nocu\u001b[0m\u001b[0;34m,\u001b[0m \u001b[0mexp_conds\u001b[0m\u001b[0;34m,\u001b[0m\u001b[0;34m\"genes_exp_ave_norm_nocu\"\u001b[0m\u001b[0;34m)\u001b[0m\u001b[0;34m\u001b[0m\u001b[0;34m\u001b[0m\u001b[0m\n\u001b[0m",
      "\u001b[0;31mNameError\u001b[0m: name 'mdf_piv_norm_nocu' is not defined"
     ]
    }
   ],
   "source": [
    "mdf_piv_norm_nocu_clust_df,\\\n",
    "mdf_piv_norm_nocu_clust_X, \\\n",
    "mdf_piv_norm_nocu_clusters,\\\n",
    "mdf_piv_norm_nocu_clust_counts = kmeans_bundle(mdf_piv_norm_nocu, exp_conds,\"genes_exp_ave_norm_nocu\")"
   ]
  },
  {
   "cell_type": "code",
   "execution_count": 13,
   "metadata": {},
   "outputs": [
    {
     "ename": "NameError",
     "evalue": "name 'mdf_piv_norm_nocu_subset' is not defined",
     "output_type": "error",
     "traceback": [
      "\u001b[0;31m---------------------------------------------------------------------------\u001b[0m",
      "\u001b[0;31mNameError\u001b[0m                                 Traceback (most recent call last)",
      "\u001b[0;32m<ipython-input-13-7659693c35c7>\u001b[0m in \u001b[0;36m<module>\u001b[0;34m\u001b[0m\n\u001b[1;32m      2\u001b[0m \u001b[0mmdf_piv_norm_nocu_subset_clust_X\u001b[0m\u001b[0;34m,\u001b[0m\u001b[0;31m \u001b[0m\u001b[0;31m\\\u001b[0m\u001b[0;34m\u001b[0m\u001b[0;34m\u001b[0m\u001b[0m\n\u001b[1;32m      3\u001b[0m \u001b[0mmdf_piv_norm_nocu_subset_clusters\u001b[0m\u001b[0;34m,\u001b[0m\u001b[0;31m\\\u001b[0m\u001b[0;34m\u001b[0m\u001b[0;34m\u001b[0m\u001b[0m\n\u001b[0;32m----> 4\u001b[0;31m \u001b[0mmdf_piv_norm_nocu_subset_clust_counts\u001b[0m \u001b[0;34m=\u001b[0m \u001b[0mkmeans_bundle\u001b[0m\u001b[0;34m(\u001b[0m\u001b[0mmdf_piv_norm_nocu_subset\u001b[0m\u001b[0;34m,\u001b[0m \u001b[0mexp_subset\u001b[0m\u001b[0;34m,\u001b[0m\u001b[0;34m\"genes_exp_ave_norm_nocu\"\u001b[0m\u001b[0;34m)\u001b[0m\u001b[0;34m\u001b[0m\u001b[0;34m\u001b[0m\u001b[0m\n\u001b[0m",
      "\u001b[0;31mNameError\u001b[0m: name 'mdf_piv_norm_nocu_subset' is not defined"
     ]
    }
   ],
   "source": [
    "mdf_piv_norm_nocu_subset_clust_df,\\\n",
    "mdf_piv_norm_nocu_subset_clust_X, \\\n",
    "mdf_piv_norm_nocu_subset_clusters,\\\n",
    "mdf_piv_norm_nocu_subset_clust_counts = kmeans_bundle(mdf_piv_norm_nocu_subset, exp_subset,\"genes_exp_ave_norm_nocu\")"
   ]
  },
  {
   "cell_type": "markdown",
   "metadata": {},
   "source": [
    "# Cluster expression visualizer!"
   ]
  },
  {
   "cell_type": "code",
   "execution_count": 14,
   "metadata": {},
   "outputs": [],
   "source": [
    "def altair_pcoords(df,title,xorder='exp_condition_order'):\n",
    "    # If more than 30 entries, make 2 columns\n",
    "    col_num = 1 if len(df['locus_tag'].unique()) <=50 else 2\n",
    "    \n",
    "    highlight = alt.selection(type='single', on='mouseover',\n",
    "                              fields=['desc_string'], nearest=True)\n",
    "    \n",
    "    selection = alt.selection_multi(fields=['desc_string'], bind='legend')\n",
    "\n",
    "\n",
    "    base = alt.Chart(df.sort_values(xorder),\n",
    "                     title=title\n",
    "        ).encode(\n",
    "        x=alt.X(f'{xorder}:N',\n",
    "                sort=alt.EncodingSortField(field=f\"{xorder}:N\", op=\"count\")\n",
    "               ),\n",
    "        y='mean:Q',\n",
    "        color=alt.Color('desc_string:N',\n",
    "                        legend=alt.Legend(title='Gene', \n",
    "                                          orient = 'right',\n",
    "                                          labelLimit=0,\n",
    "                                          columns=col_num,\n",
    "                                          symbolLimit=200\n",
    "                                         )),\n",
    "        size=alt.value(100)        \n",
    "    )\n",
    "    \n",
    "\n",
    "    lines = base.mark_line().encode(\n",
    "        size=alt.condition((selection|highlight), alt.value(3), alt.value(1)),\n",
    "        opacity=alt.condition((selection|highlight), alt.value(1), alt.value(0.5))\n",
    "    ).add_selection(\n",
    "        selection,\n",
    "    ).properties(\n",
    "         width=600,\n",
    "         height=400\n",
    "    ).interactive()\n",
    "    \n",
    "    \n",
    "    points = base.mark_circle().encode(\n",
    "        tooltip=['locus_tag','product','type','gene_symbol'],\n",
    "        opacity=alt.condition((selection|highlight), alt.value(1), alt.value(0.2)),\n",
    "        size=alt.condition((selection|highlight), alt.value(100), alt.value(3))\n",
    "    ).add_selection(highlight)\n",
    "\n",
    "    #return points + lines\n",
    "    return lines + points\n",
    "\n",
    "def check_cluster_expression(df, cols,cluster_id,title):\n",
    "    df['desc_string'] = df.apply(lambda row: f\"{row['locus_tag']}|{row['gene_symbol']}|{row['product']}\",axis=1)\n",
    "    id_vars = ['locus_tag','gene_symbol','product','type','sys','pc1','pc2','pc3','tsne1','tsne2','cluster_id','desc_string']\n",
    "    dfm = df.melt(id_vars=id_vars, value_vars=cols,var_name='exp_condition',value_name=\"mean\")\n",
    "    # altair sort helper\n",
    "    list_ordering = ['uMax','lowCH4','NoCu','lowCu','medCu','highCu','NO3_lowO2_slow_growth','highO2_slow_growth','lowO2_fast_growth','MeOH','NoLanthanum','WithLanthanum'] \n",
    "    dfm[\"exp_condition_order\"] = pd.Categorical(dfm[\"exp_condition\"], categories=list_ordering)\n",
    "    #return dfm\n",
    "    return altair_pcoords(dfm[dfm['cluster_id']==cluster_id],title)"
   ]
  },
  {
   "cell_type": "code",
   "execution_count": 8,
   "metadata": {},
   "outputs": [
    {
     "ename": "NameError",
     "evalue": "name 'mdf_piv_norm_nocu_subset_clust_df' is not defined",
     "output_type": "error",
     "traceback": [
      "\u001b[0;31m---------------------------------------------------------------------------\u001b[0m",
      "\u001b[0;31mNameError\u001b[0m                                 Traceback (most recent call last)",
      "\u001b[0;32m<ipython-input-8-43266c937ad9>\u001b[0m in \u001b[0;36m<module>\u001b[0;34m\u001b[0m\n\u001b[1;32m      1\u001b[0m check_cluster_expression(\n\u001b[0;32m----> 2\u001b[0;31m     \u001b[0mmdf_piv_norm_nocu_subset_clust_df\u001b[0m\u001b[0;34m,\u001b[0m\u001b[0;34m\u001b[0m\u001b[0;34m\u001b[0m\u001b[0m\n\u001b[0m\u001b[1;32m      3\u001b[0m     \u001b[0mexp_subset\u001b[0m\u001b[0;34m,\u001b[0m\u001b[0;34m\u001b[0m\u001b[0;34m\u001b[0m\u001b[0m\n\u001b[1;32m      4\u001b[0m     \u001b[0;36m13\u001b[0m\u001b[0;34m,\u001b[0m\u001b[0;34m\u001b[0m\u001b[0;34m\u001b[0m\u001b[0m\n\u001b[1;32m      5\u001b[0m     \"norm nocu subset, cluster 13\")\n",
      "\u001b[0;31mNameError\u001b[0m: name 'mdf_piv_norm_nocu_subset_clust_df' is not defined"
     ]
    }
   ],
   "source": [
    "check_cluster_expression(\n",
    "    mdf_piv_norm_nocu_subset_clust_df, \n",
    "    exp_subset,\n",
    "    13,\n",
    "    \"norm nocu subset, cluster 13\")"
   ]
  },
  {
   "cell_type": "code",
   "execution_count": null,
   "metadata": {},
   "outputs": [],
   "source": []
  },
  {
   "cell_type": "markdown",
   "metadata": {},
   "source": [
    "# Other analyses\n",
    "* Was 20 a good choice for k?\n",
    "  * \"elbow method\"\n",
    "  * silhouette analysis\n",
    "  * Are clusters stable?\n",
    "* Try other clustering methods\n",
    "  * DBSCAN\n",
    "* Filter out extremely low expression genes"
   ]
  },
  {
   "cell_type": "code",
   "execution_count": null,
   "metadata": {},
   "outputs": [],
   "source": []
  },
  {
   "cell_type": "code",
   "execution_count": null,
   "metadata": {},
   "outputs": [],
   "source": []
  }
 ],
 "metadata": {
  "celltoolbar": "Raw Cell Format",
  "kernelspec": {
   "display_name": "Python 3",
   "language": "python",
   "name": "python3"
  },
  "language_info": {
   "codemirror_mode": {
    "name": "ipython",
    "version": 3
   },
   "file_extension": ".py",
   "mimetype": "text/x-python",
   "name": "python",
   "nbconvert_exporter": "python",
   "pygments_lexer": "ipython3",
   "version": "3.8.3"
  },
  "toc": {
   "base_numbering": 1,
   "nav_menu": {},
   "number_sections": true,
   "sideBar": true,
   "skip_h1_title": false,
   "title_cell": "Table of Contents",
   "title_sidebar": "Contents",
   "toc_cell": false,
   "toc_position": {},
   "toc_section_display": true,
   "toc_window_display": false
  }
 },
 "nbformat": 4,
 "nbformat_minor": 4
}
